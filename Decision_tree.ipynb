{
  "nbformat": 4,
  "nbformat_minor": 0,
  "metadata": {
    "colab": {
      "provenance": [],
      "authorship_tag": "ABX9TyNt86WXjlAsB88Ds95GdB6R",
      "include_colab_link": true
    },
    "kernelspec": {
      "name": "python3",
      "display_name": "Python 3"
    },
    "language_info": {
      "name": "python"
    }
  },
  "cells": [
    {
      "cell_type": "markdown",
      "metadata": {
        "id": "view-in-github",
        "colab_type": "text"
      },
      "source": [
        "<a href=\"https://colab.research.google.com/github/BheemisettySaiHarsha/PRML_project/blob/main/Decision_tree.ipynb\" target=\"_parent\"><img src=\"https://colab.research.google.com/assets/colab-badge.svg\" alt=\"Open In Colab\"/></a>"
      ]
    },
    {
      "cell_type": "code",
      "execution_count": 7,
      "metadata": {
        "colab": {
          "base_uri": "https://localhost:8080/"
        },
        "id": "FjiddB46pGYF",
        "outputId": "c8c15d68-04f0-478f-9b73-5397d61549eb"
      },
      "outputs": [
        {
          "output_type": "stream",
          "name": "stdout",
          "text": [
            "Top recommendations for user 2 :\n",
            "Movie Title: Seven (a.k.a. Se7en) (1995)\n",
            "Movie Title: Usual Suspects, The (1995)\n",
            "Movie Title: Bottle Rocket (1996)\n",
            "Movie Title: Canadian Bacon (1995)\n",
            "Movie Title: Desperado (1995)\n",
            "Movie Title: Billy Madison (1995)\n",
            "Movie Title: Dumb & Dumber (Dumb and Dumber) (1994)\n",
            "Movie Title: Star Wars: Episode IV - A New Hope (1977)\n",
            "Movie Title: Jungle Book, The (1994)\n",
            "Movie Title: Fugitive, The (1993)\n"
          ]
        },
        {
          "output_type": "stream",
          "name": "stderr",
          "text": [
            "/usr/local/lib/python3.10/dist-packages/sklearn/base.py:439: UserWarning: X does not have valid feature names, but DecisionTreeRegressor was fitted with feature names\n",
            "  warnings.warn(\n"
          ]
        }
      ],
      "source": [
        "import pandas as pd\n",
        "from sklearn.model_selection import train_test_split\n",
        "from sklearn.tree import DecisionTreeRegressor\n",
        "from sklearn.metrics import mean_squared_error\n",
        "\n",
        "# Load the MovieLens dataset\n",
        "ratings_df = pd.read_csv('https://raw.githubusercontent.com/BheemisettySaiHarsha/PRML_project/main/PRML%20DATASET/ratings.csv')\n",
        "movies_df = pd.read_csv('https://raw.githubusercontent.com/BheemisettySaiHarsha/PRML_project/main/PRML%20DATASET/movies.csv')\n",
        "\n",
        "# Preprocess the data\n",
        "data = ratings_df[['userId', 'movieId', 'rating']]\n",
        "\n",
        "# Merge movie titles with ratings data\n",
        "data = pd.merge(data, movies_df[['movieId', 'title']], on='movieId', how='left')\n",
        "\n",
        "# Split data into training and testing sets\n",
        "train_data, test_data = train_test_split(data, test_size=0.2, random_state=42)\n",
        "\n",
        "# Train decision tree regressor\n",
        "X_train = train_data[['userId', 'movieId']]\n",
        "y_train = train_data['rating']\n",
        "decision_tree = DecisionTreeRegressor()\n",
        "decision_tree.fit(X_train, y_train)\n",
        "\n",
        "# Make predictions on the test set\n",
        "X_test = test_data[['userId', 'movieId']]\n",
        "y_test = test_data['rating']\n",
        "predictions = decision_tree.predict(X_test)\n",
        "\n",
        "\n",
        "\n",
        "# Now, let's use the trained model to recommend movies for a specific user\n",
        "user_id = 2\n",
        "all_movie_ids = data['movieId'].unique()\n",
        "user_rated_movies = data[data['userId'] == user_id]['movieId'].unique()\n",
        "movies_to_recommend = [movie_id for movie_id in all_movie_ids if movie_id not in user_rated_movies]\n",
        "\n",
        "# Make predictions for each movie\n",
        "user_predictions = decision_tree.predict([[user_id, movie_id] for movie_id in movies_to_recommend])\n",
        "\n",
        "# Sort movies based on predicted ratings (in descending order)\n",
        "recommended_movies = sorted(zip(movies_to_recommend, user_predictions), key=lambda x: x[1], reverse=True)\n",
        "\n",
        "# Print top recommendations with movie titles\n",
        "print(\"Top recommendations for user\", user_id, \":\")\n",
        "for movie_id, predicted_rating in recommended_movies[:10]:\n",
        "    movie_title = movies_df[movies_df['movieId'] == movie_id]['title'].values[0]\n",
        "    # print(\"Movie Title:\", movie_title, \", Predicted Rating:\", predicted_rating)\n",
        "    print(\"Movie Title:\", movie_title)\n",
        "\n",
        "\n",
        "\n"
      ]
    },
    {
      "cell_type": "code",
      "source": [
        "# Evaluate the model\n",
        "mse = mean_squared_error(y_test, predictions)\n",
        "print(\"Mean Squared Error:\", mse)"
      ],
      "metadata": {
        "colab": {
          "base_uri": "https://localhost:8080/"
        },
        "id": "vb60umpfpQiN",
        "outputId": "5fa70ceb-729b-4795-d8bb-5c272c8bb6c4"
      },
      "execution_count": 4,
      "outputs": [
        {
          "output_type": "stream",
          "name": "stdout",
          "text": [
            "Mean Squared Error: 1.6428872471241571\n"
          ]
        }
      ]
    },
    {
      "cell_type": "code",
      "source": [],
      "metadata": {
        "id": "6bwd3JYQprdb"
      },
      "execution_count": null,
      "outputs": []
    }
  ]
}